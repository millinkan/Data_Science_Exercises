{
 "cells": [
  {
   "cell_type": "code",
   "id": "initial_id",
   "metadata": {
    "collapsed": true,
    "ExecuteTime": {
     "end_time": "2025-03-11T00:33:43.741751Z",
     "start_time": "2025-03-11T00:33:43.719981Z"
    }
   },
   "source": [
    "#First , import Numpy\n",
    "\n",
    "import numpy as np\n",
    "\n",
    "from Health_Project.env.Lib.calendar import weekday\n",
    "from Health_Project.env.Lib.tarfile import data_filter\n",
    "\n",
    "## DataTpes and Attributes for Numpy\n"
   ],
   "outputs": [
    {
     "ename": "ModuleNotFoundError",
     "evalue": "No module named 'Health_Project'",
     "output_type": "error",
     "traceback": [
      "\u001B[1;31m---------------------------------------------------------------------------\u001B[0m",
      "\u001B[1;31mModuleNotFoundError\u001B[0m                       Traceback (most recent call last)",
      "Cell \u001B[1;32mIn[4], line 5\u001B[0m\n\u001B[0;32m      1\u001B[0m \u001B[38;5;66;03m#First , import Numpy\u001B[39;00m\n\u001B[0;32m      3\u001B[0m \u001B[38;5;28;01mimport\u001B[39;00m\u001B[38;5;250m \u001B[39m\u001B[38;5;21;01mnumpy\u001B[39;00m\u001B[38;5;250m \u001B[39m\u001B[38;5;28;01mas\u001B[39;00m\u001B[38;5;250m \u001B[39m\u001B[38;5;21;01mnp\u001B[39;00m\n\u001B[1;32m----> 5\u001B[0m \u001B[38;5;28;01mfrom\u001B[39;00m\u001B[38;5;250m \u001B[39m\u001B[38;5;21;01mHealth_Project\u001B[39;00m\u001B[38;5;21;01m.\u001B[39;00m\u001B[38;5;21;01menv\u001B[39;00m\u001B[38;5;21;01m.\u001B[39;00m\u001B[38;5;21;01mLib\u001B[39;00m\u001B[38;5;21;01m.\u001B[39;00m\u001B[38;5;21;01mcalendar\u001B[39;00m\u001B[38;5;250m \u001B[39m\u001B[38;5;28;01mimport\u001B[39;00m weekday\n\u001B[0;32m      6\u001B[0m \u001B[38;5;28;01mfrom\u001B[39;00m\u001B[38;5;250m \u001B[39m\u001B[38;5;21;01mHealth_Project\u001B[39;00m\u001B[38;5;21;01m.\u001B[39;00m\u001B[38;5;21;01menv\u001B[39;00m\u001B[38;5;21;01m.\u001B[39;00m\u001B[38;5;21;01mLib\u001B[39;00m\u001B[38;5;21;01m.\u001B[39;00m\u001B[38;5;21;01mtarfile\u001B[39;00m\u001B[38;5;250m \u001B[39m\u001B[38;5;28;01mimport\u001B[39;00m data_filter\n\u001B[0;32m      8\u001B[0m \u001B[38;5;66;03m## DataTpes and Attriutes for Numpy\u001B[39;00m\n",
      "\u001B[1;31mModuleNotFoundError\u001B[0m: No module named 'Health_Project'"
     ]
    }
   ],
   "execution_count": 4
  },
  {
   "metadata": {},
   "cell_type": "markdown",
   "source": "## DataTpes and Attriutes for Numpy",
   "id": "20178ba37d5e35aa"
  },
  {
   "metadata": {
    "ExecuteTime": {
     "end_time": "2025-03-11T00:34:03.212593Z",
     "start_time": "2025-03-11T00:34:03.200777Z"
    }
   },
   "cell_type": "code",
   "source": [
    "#NumPy  main dataype is Ndarray\n",
    "\n",
    "myj = np.array([1,2,3,4,5])\n",
    "myj"
   ],
   "id": "f6888e2678013663",
   "outputs": [
    {
     "data": {
      "text/plain": [
       "array([1, 2, 3, 4, 5])"
      ]
     },
     "execution_count": 5,
     "metadata": {},
     "output_type": "execute_result"
    }
   ],
   "execution_count": 5
  },
  {
   "metadata": {},
   "cell_type": "code",
   "source": "type(myj)",
   "id": "31225a1359c2d896",
   "outputs": [],
   "execution_count": null
  },
  {
   "metadata": {
    "ExecuteTime": {
     "end_time": "2025-03-11T00:34:05.488747Z",
     "start_time": "2025-03-11T00:34:05.481694Z"
    }
   },
   "cell_type": "code",
   "source": [
    "myj2 = np.array([[1,2.0,3.0],[4,5,6.5]])\n",
    "\n",
    "myj3 = np.array( [[ [1,2,3] ,\n",
    "                    [4,5,6],\n",
    "                    [7,8,9]],\n",
    "                    [[10,11,12],\n",
    "                     [13,14,15],\n",
    "                     [15,16,17] ]] )\n"
   ],
   "id": "d13126a0b81dafc",
   "outputs": [],
   "execution_count": 6
  },
  {
   "metadata": {
    "ExecuteTime": {
     "end_time": "2025-03-11T00:34:08.696202Z",
     "start_time": "2025-03-11T00:34:08.689013Z"
    }
   },
   "cell_type": "code",
   "source": [
    "#Array Shape :\n",
    "myj2.shape"
   ],
   "id": "d0d3127f0082560d",
   "outputs": [
    {
     "data": {
      "text/plain": [
       "(2, 3)"
      ]
     },
     "execution_count": 7,
     "metadata": {},
     "output_type": "execute_result"
    }
   ],
   "execution_count": 7
  },
  {
   "metadata": {
    "ExecuteTime": {
     "end_time": "2025-03-11T00:34:11.556992Z",
     "start_time": "2025-03-11T00:34:11.541814Z"
    }
   },
   "cell_type": "code",
   "source": "myj2.shape",
   "id": "db40b1fadf1a0b48",
   "outputs": [
    {
     "data": {
      "text/plain": [
       "(2, 3)"
      ]
     },
     "execution_count": 8,
     "metadata": {},
     "output_type": "execute_result"
    }
   ],
   "execution_count": 8
  },
  {
   "metadata": {
    "ExecuteTime": {
     "end_time": "2025-03-05T16:36:29.644570Z",
     "start_time": "2025-03-05T16:36:29.636451Z"
    }
   },
   "cell_type": "code",
   "source": "myj3.shape",
   "id": "b8dc28ceadc318d3",
   "outputs": [
    {
     "data": {
      "text/plain": [
       "(2, 3, 3)"
      ]
     },
     "execution_count": 11,
     "metadata": {},
     "output_type": "execute_result"
    }
   ],
   "execution_count": 11
  },
  {
   "metadata": {
    "ExecuteTime": {
     "end_time": "2025-03-05T16:36:30.795090Z",
     "start_time": "2025-03-05T16:36:30.787360Z"
    }
   },
   "cell_type": "code",
   "source": "myj.ndim,myj2.ndim,myj3.ndim",
   "id": "b75500b2b01f8d24",
   "outputs": [
    {
     "data": {
      "text/plain": [
       "(1, 2, 3)"
      ]
     },
     "execution_count": 12,
     "metadata": {},
     "output_type": "execute_result"
    }
   ],
   "execution_count": 12
  },
  {
   "metadata": {
    "ExecuteTime": {
     "end_time": "2025-03-05T16:36:32.414567Z",
     "start_time": "2025-03-05T16:36:32.406628Z"
    }
   },
   "cell_type": "code",
   "source": "myj.dtype , myj2.dtype , myj3.dtype",
   "id": "203cd1de0de1b889",
   "outputs": [
    {
     "data": {
      "text/plain": [
       "(dtype('int64'), dtype('float64'), dtype('int64'))"
      ]
     },
     "execution_count": 13,
     "metadata": {},
     "output_type": "execute_result"
    }
   ],
   "execution_count": 13
  },
  {
   "metadata": {
    "ExecuteTime": {
     "end_time": "2025-03-05T16:36:33.942213Z",
     "start_time": "2025-03-05T16:36:33.934533Z"
    }
   },
   "cell_type": "code",
   "source": "myj.size , myj2.size , myj3.size\n",
   "id": "68caa4e36e64ecb3",
   "outputs": [
    {
     "data": {
      "text/plain": [
       "(5, 6, 18)"
      ]
     },
     "execution_count": 14,
     "metadata": {},
     "output_type": "execute_result"
    }
   ],
   "execution_count": 14
  },
  {
   "metadata": {
    "ExecuteTime": {
     "end_time": "2025-03-05T16:36:36.091143Z",
     "start_time": "2025-03-05T16:36:36.084384Z"
    }
   },
   "cell_type": "code",
   "source": "type(myj),type(myj2),type(myj3)",
   "id": "a1baf4a04ef96567",
   "outputs": [
    {
     "data": {
      "text/plain": [
       "(numpy.ndarray, numpy.ndarray, numpy.ndarray)"
      ]
     },
     "execution_count": 15,
     "metadata": {},
     "output_type": "execute_result"
    }
   ],
   "execution_count": 15
  },
  {
   "metadata": {
    "ExecuteTime": {
     "end_time": "2025-03-11T00:34:29.481409Z",
     "start_time": "2025-03-11T00:34:28.793511Z"
    }
   },
   "cell_type": "code",
   "source": [
    "##Creating a datafrome for a Numpy array\n",
    "\n",
    "import pandas as pd\n",
    "df = pd.DataFrame(myj2)\n",
    "df"
   ],
   "id": "ce2e9eb518cd63c",
   "outputs": [
    {
     "data": {
      "text/plain": [
       "     0    1    2\n",
       "0  1.0  2.0  3.0\n",
       "1  4.0  5.0  6.5"
      ],
      "text/html": [
       "<div>\n",
       "<style scoped>\n",
       "    .dataframe tbody tr th:only-of-type {\n",
       "        vertical-align: middle;\n",
       "    }\n",
       "\n",
       "    .dataframe tbody tr th {\n",
       "        vertical-align: top;\n",
       "    }\n",
       "\n",
       "    .dataframe thead th {\n",
       "        text-align: right;\n",
       "    }\n",
       "</style>\n",
       "<table border=\"1\" class=\"dataframe\">\n",
       "  <thead>\n",
       "    <tr style=\"text-align: right;\">\n",
       "      <th></th>\n",
       "      <th>0</th>\n",
       "      <th>1</th>\n",
       "      <th>2</th>\n",
       "    </tr>\n",
       "  </thead>\n",
       "  <tbody>\n",
       "    <tr>\n",
       "      <th>0</th>\n",
       "      <td>1.0</td>\n",
       "      <td>2.0</td>\n",
       "      <td>3.0</td>\n",
       "    </tr>\n",
       "    <tr>\n",
       "      <th>1</th>\n",
       "      <td>4.0</td>\n",
       "      <td>5.0</td>\n",
       "      <td>6.5</td>\n",
       "    </tr>\n",
       "  </tbody>\n",
       "</table>\n",
       "</div>"
      ]
     },
     "execution_count": 9,
     "metadata": {},
     "output_type": "execute_result"
    }
   ],
   "execution_count": 9
  },
  {
   "metadata": {},
   "cell_type": "code",
   "source": "",
   "id": "4b88bc953f0b9e63",
   "outputs": [],
   "execution_count": null
  },
  {
   "metadata": {},
   "cell_type": "markdown",
   "source": "##Creating NumpyArrays",
   "id": "53286fad127e6490"
  },
  {
   "metadata": {
    "ExecuteTime": {
     "end_time": "2025-03-11T00:34:32.626093Z",
     "start_time": "2025-03-11T00:34:32.617267Z"
    }
   },
   "cell_type": "code",
   "source": [
    "sami = np.array([1,2,3,4,5,6,7,8,9,10])\n",
    "sami"
   ],
   "id": "ece8a785c4433752",
   "outputs": [
    {
     "data": {
      "text/plain": [
       "array([ 1,  2,  3,  4,  5,  6,  7,  8,  9, 10])"
      ]
     },
     "execution_count": 10,
     "metadata": {},
     "output_type": "execute_result"
    }
   ],
   "execution_count": 10
  },
  {
   "metadata": {
    "ExecuteTime": {
     "end_time": "2025-03-05T16:36:47.683305Z",
     "start_time": "2025-03-05T16:36:47.674746Z"
    }
   },
   "cell_type": "code",
   "source": "sami.dtype",
   "id": "18d303fb638b4562",
   "outputs": [
    {
     "data": {
      "text/plain": [
       "dtype('int64')"
      ]
     },
     "execution_count": 18,
     "metadata": {},
     "output_type": "execute_result"
    }
   ],
   "execution_count": 18
  },
  {
   "metadata": {
    "ExecuteTime": {
     "end_time": "2025-03-11T00:34:34.978003Z",
     "start_time": "2025-03-11T00:34:34.969464Z"
    }
   },
   "cell_type": "code",
   "source": [
    "ones = np.ones((2,3))\n",
    "ones"
   ],
   "id": "fe865ac00cce19e3",
   "outputs": [
    {
     "data": {
      "text/plain": [
       "array([[1., 1., 1.],\n",
       "       [1., 1., 1.]])"
      ]
     },
     "execution_count": 11,
     "metadata": {},
     "output_type": "execute_result"
    }
   ],
   "execution_count": 11
  },
  {
   "metadata": {
    "ExecuteTime": {
     "end_time": "2025-03-11T00:34:37.883259Z",
     "start_time": "2025-03-11T00:34:37.876015Z"
    }
   },
   "cell_type": "code",
   "source": "ones",
   "id": "c28edfe6e2c6fd7c",
   "outputs": [
    {
     "data": {
      "text/plain": [
       "array([[1., 1., 1.],\n",
       "       [1., 1., 1.]])"
      ]
     },
     "execution_count": 12,
     "metadata": {},
     "output_type": "execute_result"
    }
   ],
   "execution_count": 12
  },
  {
   "metadata": {
    "ExecuteTime": {
     "end_time": "2025-03-11T00:34:40.404795Z",
     "start_time": "2025-03-11T00:34:40.396740Z"
    }
   },
   "cell_type": "code",
   "source": "ones.dtype",
   "id": "a86a902984604702",
   "outputs": [
    {
     "data": {
      "text/plain": [
       "dtype('float64')"
      ]
     },
     "execution_count": 13,
     "metadata": {},
     "output_type": "execute_result"
    }
   ],
   "execution_count": 13
  },
  {
   "metadata": {},
   "cell_type": "code",
   "source": "type(ones)",
   "id": "c6d2e4f8656adaf4",
   "outputs": [],
   "execution_count": null
  },
  {
   "metadata": {
    "ExecuteTime": {
     "end_time": "2025-03-11T00:34:42.594017Z",
     "start_time": "2025-03-11T00:34:42.588630Z"
    }
   },
   "cell_type": "code",
   "source": "zeros = np.zeros((2,3))",
   "id": "ee94d7fa69d49883",
   "outputs": [],
   "execution_count": 14
  },
  {
   "metadata": {
    "ExecuteTime": {
     "end_time": "2025-03-11T00:34:44.694956Z",
     "start_time": "2025-03-11T00:34:44.687705Z"
    }
   },
   "cell_type": "code",
   "source": "zeros",
   "id": "7031247c6ece2a7a",
   "outputs": [
    {
     "data": {
      "text/plain": [
       "array([[0., 0., 0.],\n",
       "       [0., 0., 0.]])"
      ]
     },
     "execution_count": 15,
     "metadata": {},
     "output_type": "execute_result"
    }
   ],
   "execution_count": 15
  },
  {
   "metadata": {
    "ExecuteTime": {
     "end_time": "2025-03-11T00:34:46.897990Z",
     "start_time": "2025-03-11T00:34:46.890557Z"
    }
   },
   "cell_type": "code",
   "source": [
    "range_array = np.arange(0,10,2) # Start step stop\n",
    "range_array"
   ],
   "id": "a76bbf445131957e",
   "outputs": [
    {
     "data": {
      "text/plain": [
       "array([0, 2, 4, 6, 8])"
      ]
     },
     "execution_count": 16,
     "metadata": {},
     "output_type": "execute_result"
    }
   ],
   "execution_count": 16
  },
  {
   "metadata": {
    "ExecuteTime": {
     "end_time": "2025-03-05T16:36:58.211705Z",
     "start_time": "2025-03-05T16:36:58.202512Z"
    }
   },
   "cell_type": "code",
   "source": [
    "random_array = np.random.randint(0,10 , size =(3,5)) # Array contain 0 as the low value and 10 as a high value.\n",
    "random_array"
   ],
   "id": "ba26edd51bbeb1dc",
   "outputs": [
    {
     "data": {
      "text/plain": [
       "array([[9, 3, 4, 3, 1],\n",
       "       [4, 4, 5, 6, 6],\n",
       "       [5, 5, 2, 0, 1]], dtype=int32)"
      ]
     },
     "execution_count": 22,
     "metadata": {},
     "output_type": "execute_result"
    }
   ],
   "execution_count": 22
  },
  {
   "metadata": {},
   "cell_type": "code",
   "source": "random_array.size\n",
   "id": "b15c21eb5dc7e554",
   "outputs": [],
   "execution_count": null
  },
  {
   "metadata": {},
   "cell_type": "code",
   "source": "random_array.shape",
   "id": "399482a495afd455",
   "outputs": [],
   "execution_count": null
  },
  {
   "metadata": {},
   "cell_type": "code",
   "source": "random_array2 = np.random.randn(5,3) # 5 rows 3 column",
   "id": "b17baf0244b93fa0",
   "outputs": [],
   "execution_count": null
  },
  {
   "metadata": {},
   "cell_type": "code",
   "source": "random_array2",
   "id": "81600634bbead77e",
   "outputs": [],
   "execution_count": null
  },
  {
   "metadata": {},
   "cell_type": "code",
   "source": "random_array2.shape",
   "id": "162401d64d7fde9a",
   "outputs": [],
   "execution_count": null
  },
  {
   "metadata": {},
   "cell_type": "code",
   "source": [
    "random_array3 = np.random.rand(5,3)\n",
    "random_array3"
   ],
   "id": "29532c3c538112f0",
   "outputs": [],
   "execution_count": null
  },
  {
   "metadata": {},
   "cell_type": "code",
   "source": [
    "# Pseudo - Randmon Numbers\n",
    "#me = np.random.seed() == Use seed for random numberts that are reproducable.\n",
    "np.random.seed(0)\n",
    "random_array4 = np.random.randint(10, size = (5,3))\n",
    "random_array4\n"
   ],
   "id": "dfb89528fdbfa7f8",
   "outputs": [],
   "execution_count": null
  },
  {
   "metadata": {},
   "cell_type": "code",
   "source": [
    "np.random.seed(7) # Code for using a specific seed for randomizing numbers. It locks it.\n",
    "random_array5 = np.random.randint(10, size = (5,3))\n",
    "random_array5"
   ],
   "id": "dbfd7b9cf4c8c8c0",
   "outputs": [],
   "execution_count": null
  },
  {
   "metadata": {},
   "cell_type": "code",
   "source": "random_array5.shape\n",
   "id": "a8b83a2f9f3b3745",
   "outputs": [],
   "execution_count": null
  },
  {
   "metadata": {},
   "cell_type": "code",
   "source": [
    "np.random.seed(5)\n",
    "random_array5 = np.random.random ((5,3))\n",
    "random_array5"
   ],
   "id": "f7e44cc765e8f94",
   "outputs": [],
   "execution_count": null
  },
  {
   "metadata": {},
   "cell_type": "code",
   "source": [
    "random_array5 = np.random.random((5,3))\n",
    "random_array5"
   ],
   "id": "db428865109f650c",
   "outputs": [],
   "execution_count": null
  },
  {
   "metadata": {},
   "cell_type": "markdown",
   "source": "## Viewing arrays and Matrices",
   "id": "a144a4d921c507a3"
  },
  {
   "metadata": {},
   "cell_type": "code",
   "source": [
    "random_array6 = np.unique(random_array5)\n",
    "random_array6"
   ],
   "id": "d2eed33b893a7648",
   "outputs": [],
   "execution_count": null
  },
  {
   "metadata": {},
   "cell_type": "code",
   "source": "a1",
   "id": "3827a4072a1ea43d",
   "outputs": [],
   "execution_count": null
  },
  {
   "metadata": {},
   "cell_type": "code",
   "source": [
    "a4 = np.random.randint(10, size = (2,3,4,5)) # Try to understand this\n",
    "a4"
   ],
   "id": "b0dec2cc9410fcd1",
   "outputs": [],
   "execution_count": null
  },
  {
   "metadata": {},
   "cell_type": "code",
   "source": [
    "# Get the first 4 numbers of the inner most array\n",
    "\n",
    "a4[:,:,:,0:1]"
   ],
   "id": "3a0e8e0bcc0f2b48",
   "outputs": [],
   "execution_count": null
  },
  {
   "metadata": {},
   "cell_type": "code",
   "source": "",
   "id": "e2d2994a45083599",
   "outputs": [],
   "execution_count": null
  },
  {
   "metadata": {},
   "cell_type": "markdown",
   "source": "##Manipulating and COmpares Arrays",
   "id": "cbeb899bbcae3fbe"
  },
  {
   "metadata": {},
   "cell_type": "code",
   "source": [
    "#Arithmetic\n",
    "zeros\n"
   ],
   "id": "5c7d809b2ceb6a09",
   "outputs": [],
   "execution_count": null
  },
  {
   "metadata": {},
   "cell_type": "code",
   "source": "ones",
   "id": "3903f2bbedae4e7a",
   "outputs": [],
   "execution_count": null
  },
  {
   "metadata": {},
   "cell_type": "code",
   "source": [
    "a1 = np.array([1,2,3,])\n",
    "a1\n",
    "a1"
   ],
   "id": "234c6e23db857284",
   "outputs": [],
   "execution_count": null
  },
  {
   "metadata": {},
   "cell_type": "code",
   "source": [
    "a2 = np.array([[1.0,2.0,3.3],[4.0,5.0,6.5]])\n",
    "a2"
   ],
   "id": "430cb67cf06d443b",
   "outputs": [],
   "execution_count": null
  },
  {
   "metadata": {},
   "cell_type": "code",
   "source": "a1*a2",
   "id": "bee588d8f55ec186",
   "outputs": [],
   "execution_count": null
  },
  {
   "metadata": {},
   "cell_type": "code",
   "source": "random_array3",
   "id": "c84dda160cac5fcc",
   "outputs": [],
   "execution_count": null
  },
  {
   "metadata": {},
   "cell_type": "code",
   "source": [
    "a3 = np.array( [[ [1,2,3] ,\n",
    "                    [4,5,6],\n",
    "                    [7,8,9]],\n",
    "                    [[10,11,12],\n",
    "                     [13,14,15],\n",
    "                     [15,16,17] ]] )"
   ],
   "id": "f365bd5d00213fe2",
   "outputs": [],
   "execution_count": null
  },
  {
   "metadata": {},
   "cell_type": "code",
   "source": "a3",
   "id": "80cad82edb0c6bb4",
   "outputs": [],
   "execution_count": null
  },
  {
   "metadata": {},
   "cell_type": "code",
   "source": "a2*a3",
   "id": "d9663cb004a9a8ec",
   "outputs": [],
   "execution_count": null
  },
  {
   "metadata": {},
   "cell_type": "code",
   "source": [
    "#How to reshape a2 ro be compitabile woth a3\n",
    "#Search : How to reshape numpy array\n",
    "\n",
    "a1 / ones\n"
   ],
   "id": "43d3337cf03ba2c0",
   "outputs": [],
   "execution_count": null
  },
  {
   "metadata": {},
   "cell_type": "code",
   "source": [
    "#Floor --  Removing the decimals\n",
    "a2 // a1"
   ],
   "id": "1bec11c09d8b6f97",
   "outputs": [],
   "execution_count": null
  },
  {
   "metadata": {},
   "cell_type": "code",
   "source": "a2**2",
   "id": "70af16304729ce37",
   "outputs": [],
   "execution_count": null
  },
  {
   "metadata": {},
   "cell_type": "code",
   "source": "np.square(a2)",
   "id": "f3d89cd1ac83f188",
   "outputs": [],
   "execution_count": null
  },
  {
   "metadata": {},
   "cell_type": "code",
   "source": "np.add(a2,a1)",
   "id": "5acefaba204e22a3",
   "outputs": [],
   "execution_count": null
  },
  {
   "metadata": {},
   "cell_type": "code",
   "source": "np.add(a1,a2)",
   "id": "3fda6d568d150477",
   "outputs": [],
   "execution_count": null
  },
  {
   "metadata": {},
   "cell_type": "code",
   "source": "a1 % 2",
   "id": "57dd58211a52801c",
   "outputs": [],
   "execution_count": null
  },
  {
   "metadata": {},
   "cell_type": "code",
   "source": "a2 % 2\n",
   "id": "fd62c3c09792779c",
   "outputs": [],
   "execution_count": null
  },
  {
   "metadata": {},
   "cell_type": "code",
   "source": "",
   "id": "ce71c4e22830cdc6",
   "outputs": [],
   "execution_count": null
  },
  {
   "metadata": {},
   "cell_type": "code",
   "source": "",
   "id": "39f01002318500b",
   "outputs": [],
   "execution_count": null
  },
  {
   "metadata": {},
   "cell_type": "markdown",
   "source": [
    "## Aggregation\n",
    "Aggregation is the performing the same operations on a number of things"
   ],
   "id": "1970da658990c093"
  },
  {
   "metadata": {},
   "cell_type": "code",
   "source": [
    "listy_list = [1,2,3]\n",
    "type(listy_list)\n"
   ],
   "id": "772ba2607314d6c0",
   "outputs": [],
   "execution_count": null
  },
  {
   "metadata": {},
   "cell_type": "code",
   "source": "sum(listy_list)\n",
   "id": "ac155113b1d8ca96",
   "outputs": [],
   "execution_count": null
  },
  {
   "metadata": {},
   "cell_type": "code",
   "source": "a1",
   "id": "47f3be3eda3376a3",
   "outputs": [],
   "execution_count": null
  },
  {
   "metadata": {},
   "cell_type": "code",
   "source": "type(a1)",
   "id": "1e969287edb66fda",
   "outputs": [],
   "execution_count": null
  },
  {
   "metadata": {},
   "cell_type": "code",
   "source": "sum(a1)",
   "id": "4a9ffcf3f1e13b2d",
   "outputs": [],
   "execution_count": null
  },
  {
   "metadata": {},
   "cell_type": "markdown",
   "source": [
    "#Use python method (sum()) on python datatypes and use\n",
    "#Numpy methods (np.sum())on Numpy Arrays\n"
   ],
   "id": "d46060ff276bea57"
  },
  {
   "metadata": {},
   "cell_type": "code",
   "source": [
    "#Creation a massive Numpy Array\n",
    "massive_array = np.random.random ( (100000) )\n",
    "massive_array.size"
   ],
   "id": "9c4b0fa87224675c",
   "outputs": [],
   "execution_count": null
  },
  {
   "metadata": {},
   "cell_type": "code",
   "source": "massive_array.shape",
   "id": "76948320e7c349d5",
   "outputs": [],
   "execution_count": null
  },
  {
   "metadata": {},
   "cell_type": "code",
   "source": "massive_array[:10] # Slice array for 10 values",
   "id": "28bcda5924221439",
   "outputs": [],
   "execution_count": null
  },
  {
   "metadata": {},
   "cell_type": "code",
   "source": [
    "%timeit sum(massive_array) # Python sume\n",
    "%timeit np.sum(massive_array) # Numpy sum\n"
   ],
   "id": "3d92f445cb130bd9",
   "outputs": [],
   "execution_count": null
  },
  {
   "metadata": {},
   "cell_type": "code",
   "source": "a2",
   "id": "2bc80c053145c472",
   "outputs": [],
   "execution_count": null
  },
  {
   "metadata": {},
   "cell_type": "code",
   "source": "np.mean(a2)",
   "id": "91d49ad2d7a47242",
   "outputs": [],
   "execution_count": null
  },
  {
   "metadata": {},
   "cell_type": "code",
   "source": [
    "np.median(a2)\n",
    "np.max(a2)\n",
    "#Standard deviatio is the squaroot of the variance\n",
    "np.std(a2)\n"
   ],
   "id": "9874413f08372ee1",
   "outputs": [],
   "execution_count": null
  },
  {
   "metadata": {},
   "cell_type": "code",
   "source": [
    "# Variance = measure of the average degree to which each number is different to the mean\n",
    "# Higher Variance =  Wider range of the numbers\n",
    "# Lower variance  =  lower range of numbers\n",
    "np.var(a2)\n"
   ],
   "id": "f0ae029cea0243ac",
   "outputs": [],
   "execution_count": null
  },
  {
   "metadata": {},
   "cell_type": "code",
   "source": [
    "#Standard deviation =  Square root of t variance\n",
    "\n",
    "np.sqrt(np.var(a2))"
   ],
   "id": "f9933ca2940fef5e",
   "outputs": [],
   "execution_count": null
  },
  {
   "metadata": {},
   "cell_type": "code",
   "source": [
    "#Demo of std and VAr\n",
    "high_var_array = np.array([1,100,200,300,4000,5000])\n",
    "low_var_array = np.array([2,4,6,8,10])\n",
    "#finding the variance\n",
    "np.var(high_var_array),np.var(low_var_array)"
   ],
   "id": "683dff8776800046",
   "outputs": [],
   "execution_count": null
  },
  {
   "metadata": {},
   "cell_type": "code",
   "source": "np.std(high_var_array),np.std(low_var_array) # Standard deviation",
   "id": "252139f5df590e11",
   "outputs": [],
   "execution_count": null
  },
  {
   "metadata": {},
   "cell_type": "code",
   "source": "np.mean(high_var_array),np.mean(low_var_array) # Mean",
   "id": "44b711b02641bebc",
   "outputs": [],
   "execution_count": null
  },
  {
   "metadata": {},
   "cell_type": "code",
   "source": [
    "%matplotlib inline\n",
    "import matplotlib.pyplot as plt\n",
    "plt.hist(high_var_array)\n",
    "plt.show()"
   ],
   "id": "214f5c7ca5b60df4",
   "outputs": [],
   "execution_count": null
  },
  {
   "metadata": {},
   "cell_type": "code",
   "source": "plt.hist(low_var_array)",
   "id": "e4e4535d189e1cea",
   "outputs": [],
   "execution_count": null
  },
  {
   "metadata": {},
   "cell_type": "markdown",
   "source": "### Reshaping and Transposing",
   "id": "3822a520b20c2b71"
  },
  {
   "metadata": {},
   "cell_type": "code",
   "source": "a3",
   "id": "bc4eabde577519d",
   "outputs": [],
   "execution_count": null
  },
  {
   "metadata": {},
   "cell_type": "code",
   "source": "a3.shape",
   "id": "18ba46a2f08739d3",
   "outputs": [],
   "execution_count": null
  },
  {
   "metadata": {},
   "cell_type": "code",
   "source": "a2",
   "id": "50ee63a0d5cbe8f5",
   "outputs": [],
   "execution_count": null
  },
  {
   "metadata": {},
   "cell_type": "code",
   "source": "a2 * a3",
   "id": "a879a877d95e1ee5",
   "outputs": [],
   "execution_count": null
  },
  {
   "metadata": {},
   "cell_type": "code",
   "source": [
    "#Reshaping the array\n",
    "a2.reshape()"
   ],
   "id": "c1ceb88690d473cb",
   "outputs": [],
   "execution_count": null
  },
  {
   "metadata": {},
   "cell_type": "code",
   "source": "a2.reshape(2,3,1)",
   "id": "860f1311b6241d43",
   "outputs": [],
   "execution_count": null
  },
  {
   "metadata": {},
   "cell_type": "code",
   "source": [
    "a2_reshape = a2.reshape (2,3,1)\n",
    "a2_reshape\n"
   ],
   "id": "a7eba5dd878c0b0a",
   "outputs": [],
   "execution_count": null
  },
  {
   "metadata": {},
   "cell_type": "code",
   "source": "a2 * a3",
   "id": "77c1a45206209780",
   "outputs": [],
   "execution_count": null
  },
  {
   "metadata": {},
   "cell_type": "code",
   "source": "a3 * a2_reshape",
   "id": "e82f6555e34f6862",
   "outputs": [],
   "execution_count": null
  },
  {
   "metadata": {},
   "cell_type": "code",
   "source": "a2_reshape * a3",
   "id": "fa36353817263a49",
   "outputs": [],
   "execution_count": null
  },
  {
   "metadata": {},
   "cell_type": "code",
   "source": "a2.T",
   "id": "a792f62603e406c9",
   "outputs": [],
   "execution_count": null
  },
  {
   "metadata": {},
   "cell_type": "code",
   "source": "a2.T.shape",
   "id": "831a296f59f4db35",
   "outputs": [],
   "execution_count": null
  },
  {
   "metadata": {},
   "cell_type": "code",
   "source": "a3.T.shape",
   "id": "a96b37abedba040f",
   "outputs": [],
   "execution_count": null
  },
  {
   "metadata": {},
   "cell_type": "markdown",
   "source": "## DOT Product",
   "id": "7fb3352501eb2074"
  },
  {
   "metadata": {},
   "cell_type": "code",
   "source": [
    "np.random.seed(0)\n",
    "\n",
    "mat1 = np.random.randint(10, size = (5,3))\n",
    "mat2 = np.random.randint(10, size = (5,3))\n",
    "\n",
    "mat1\n"
   ],
   "id": "e6eac2e875e8bae",
   "outputs": [],
   "execution_count": null
  },
  {
   "metadata": {},
   "cell_type": "code",
   "source": "mat2",
   "id": "47a0b02c960a2858",
   "outputs": [],
   "execution_count": null
  },
  {
   "metadata": {},
   "cell_type": "code",
   "source": "mat1.shape",
   "id": "3fd6a3b6d4212cf7",
   "outputs": [],
   "execution_count": null
  },
  {
   "metadata": {},
   "cell_type": "code",
   "source": "mat2.shape",
   "id": "2ed8d9ddfc6cf464",
   "outputs": [],
   "execution_count": null
  },
  {
   "metadata": {},
   "cell_type": "code",
   "source": "mat1*mat2",
   "id": "f62f78a5adb17c81",
   "outputs": [],
   "execution_count": null
  },
  {
   "metadata": {},
   "cell_type": "code",
   "source": "mat1 * mat2  # Element-wise multiplication",
   "id": "4899462daef53857",
   "outputs": [],
   "execution_count": null
  },
  {
   "metadata": {},
   "cell_type": "code",
   "source": [
    "# Dot Product\n",
    "np.dot(mat1,mat2)"
   ],
   "id": "b140e31600cd8b31",
   "outputs": [],
   "execution_count": null
  },
  {
   "metadata": {},
   "cell_type": "code",
   "source": [
    "#Transpose Mat1\n",
    "mat1.T\n"
   ],
   "id": "403806ec16210a3b",
   "outputs": [],
   "execution_count": null
  },
  {
   "metadata": {},
   "cell_type": "code",
   "source": "mat1.T.shape\n",
   "id": "5c5acafa2f75830",
   "outputs": [],
   "execution_count": null
  },
  {
   "metadata": {},
   "cell_type": "code",
   "source": "mat1.shape",
   "id": "2df265377738c9f3",
   "outputs": [],
   "execution_count": null
  },
  {
   "metadata": {},
   "cell_type": "code",
   "source": "mat2.T.shape",
   "id": "a01c132131f19a2c",
   "outputs": [],
   "execution_count": null
  },
  {
   "metadata": {},
   "cell_type": "code",
   "source": "mat3 = np.dot(mat1,mat2.T)",
   "id": "cdb4ec0522c42ae2",
   "outputs": [],
   "execution_count": null
  },
  {
   "metadata": {},
   "cell_type": "code",
   "source": "mat3",
   "id": "14d0e0166e39194f",
   "outputs": [],
   "execution_count": null
  },
  {
   "metadata": {},
   "cell_type": "code",
   "source": "mat3.shape",
   "id": "ae59dbf0e9d9d03c",
   "outputs": [],
   "execution_count": null
  },
  {
   "metadata": {},
   "cell_type": "markdown",
   "source": "## Dot product Example ( Nut Butter Sales )",
   "id": "5b065cdff95ffe79"
  },
  {
   "metadata": {},
   "cell_type": "code",
   "source": [
    "np.random.seed(0)\n",
    "#Number of Jars Sold\n",
    "sales_amount = np.random.randint(20, size = (5,3))"
   ],
   "id": "3144a58be09c58fe",
   "outputs": [],
   "execution_count": null
  },
  {
   "metadata": {},
   "cell_type": "code",
   "source": "sales_amount",
   "id": "4222fe4aa2abf959",
   "outputs": [],
   "execution_count": null
  },
  {
   "metadata": {},
   "cell_type": "code",
   "source": [
    "#CReate Prices_Array\n",
    "\n",
    "prices = np.array([10,8,12])\n",
    "prices"
   ],
   "id": "7920273d12dcb518",
   "outputs": [],
   "execution_count": null
  },
  {
   "metadata": {},
   "cell_type": "code",
   "source": [
    "# price dataframe\n",
    "butter_prices = pd.DataFrame(prices.reshape(1,3),index = ['Price'],\n",
    "                    columns =['Almond Butter','Peanut Butter','Cashew Butter'])\n",
    "butter_prices\n"
   ],
   "id": "f302ad100d41c912",
   "outputs": [],
   "execution_count": null
  },
  {
   "metadata": {},
   "cell_type": "code",
   "source": [
    "total_sales = prices.dot(sales_amount.T)\n",
    "total_sales"
   ],
   "id": "3a569dcc971b3d5",
   "outputs": [],
   "execution_count": null
  },
  {
   "metadata": {},
   "cell_type": "code",
   "source": [
    "# Create daily_sales\n",
    "butter_prices.shape , weekly_sales.shape"
   ],
   "id": "425796515a7cc735",
   "outputs": [],
   "execution_count": null
  },
  {
   "metadata": {},
   "cell_type": "code",
   "source": [
    "daily_sales = butter_prices.dot(weekly_sales.T)\n",
    "daily_sales"
   ],
   "id": "3eba110baf4159db",
   "outputs": [],
   "execution_count": null
  },
  {
   "metadata": {},
   "cell_type": "code",
   "source": "weekly_sales",
   "id": "91c3698404dc9d18",
   "outputs": [],
   "execution_count": null
  },
  {
   "metadata": {},
   "cell_type": "code",
   "source": [
    "#Transpose daily sales to chane the size and add it to weekly sales\n",
    "\n",
    "#daily_sales =daily_sales.T.shape\n",
    "daily_sales\n",
    "\n"
   ],
   "id": "d06d7992fa40280b",
   "outputs": [],
   "execution_count": null
  },
  {
   "metadata": {},
   "cell_type": "code",
   "source": [
    "weekly_sales['Total'] = daily_sales.T\n",
    "weekly_sales"
   ],
   "id": "2702acde6d728f63",
   "outputs": [],
   "execution_count": null
  },
  {
   "metadata": {},
   "cell_type": "code",
   "source": "#Try it on your own",
   "id": "84aefa45bf895a6b",
   "outputs": [],
   "execution_count": null
  },
  {
   "metadata": {},
   "cell_type": "markdown",
   "source": "## Dot Product ( Car Sales )",
   "id": "860cf2e50062d8bb"
  },
  {
   "metadata": {},
   "cell_type": "code",
   "source": [
    "np.random.seed(0)\n",
    "#Number of Cars Sold\n",
    "csales_amount = np.random.randint(20, size = (6,4))\n",
    "csales_amount"
   ],
   "id": "433a05b5e3574ec9",
   "outputs": [],
   "execution_count": null
  },
  {
   "metadata": {},
   "cell_type": "code",
   "source": [
    "#Create an amount\n",
    "prices = np.array([55000,25000,33000,42000])\n",
    "prices"
   ],
   "id": "11413e7b9cb00102",
   "outputs": [],
   "execution_count": null
  },
  {
   "metadata": {},
   "cell_type": "code",
   "source": [
    "csales_prices = pd.DataFrame(prices.reshape(1,4), index = [\"Price\"],\n",
    "                                columns = ['BMW','Toyota','Honda','Jaguar'])\n",
    "csales_prices"
   ],
   "id": "925a9f17461d3bb7",
   "outputs": [],
   "execution_count": null
  },
  {
   "metadata": {},
   "cell_type": "code",
   "source": [
    "# Mapping days of the week to sales\n",
    "weekly= pd.DataFrame(csales_amount, index =['Monday','Tuesday','Wednesday','Thursday','Friday','Saturday'],\n",
    "          columns = ['BMW','Toyota','Honda','Jaguar'])\n",
    "weekly\n",
    "#csales_prices.shape , weekly.shape\n"
   ],
   "id": "ace3716c8d0df075",
   "outputs": [],
   "execution_count": null
  },
  {
   "metadata": {},
   "cell_type": "code",
   "source": [
    "#Daily Sales\n",
    "daily_csales = csales_prices.dot(weekly.T)\n",
    "daily_csales\n"
   ],
   "id": "17c4a4144a02f95",
   "outputs": [],
   "execution_count": null
  },
  {
   "metadata": {},
   "cell_type": "code",
   "source": [
    "# Total Sales\n",
    "weekly['Total Sale'] = daily_csales.T\n",
    "weekly\n"
   ],
   "id": "3faaf2e666f92e3",
   "outputs": [],
   "execution_count": null
  },
  {
   "metadata": {},
   "cell_type": "markdown",
   "source": "### Comparison Operators - Logic FUnctions",
   "id": "c947e810623ae74b"
  },
  {
   "metadata": {},
   "cell_type": "code",
   "source": "a1",
   "id": "bb244895407f6fff",
   "outputs": [],
   "execution_count": null
  },
  {
   "metadata": {},
   "cell_type": "code",
   "source": "a2",
   "id": "2cb26f46536d8de2",
   "outputs": [],
   "execution_count": null
  },
  {
   "metadata": {},
   "cell_type": "code",
   "source": "a1 > a2",
   "id": "e14c27fe0559facf",
   "outputs": [],
   "execution_count": null
  },
  {
   "metadata": {},
   "cell_type": "code",
   "source": "a1 >= a2",
   "id": "d3c1d371b94825f9",
   "outputs": [],
   "execution_count": null
  },
  {
   "metadata": {},
   "cell_type": "code",
   "source": [
    "bool_array = a1 > a2\n",
    "bool_array.dtype ,"
   ],
   "id": "e720583b86d11f6e",
   "outputs": [],
   "execution_count": null
  },
  {
   "metadata": {},
   "cell_type": "code",
   "source": "a1 == a1\n",
   "id": "deae0b699f021c66",
   "outputs": [],
   "execution_count": null
  },
  {
   "metadata": {},
   "cell_type": "code",
   "source": "a1 == a2",
   "id": "f581cc4346eaf6ca",
   "outputs": [],
   "execution_count": null
  },
  {
   "metadata": {},
   "cell_type": "code",
   "source": "",
   "id": "c77c7f2a989af650",
   "outputs": [],
   "execution_count": null
  },
  {
   "metadata": {},
   "cell_type": "markdown",
   "source": "## SOrting Arrays",
   "id": "72208ce32f0caf65"
  },
  {
   "metadata": {},
   "cell_type": "code",
   "source": [
    "random_array = np.random.randint(10,size =(3,5))\n",
    "random_array"
   ],
   "id": "5537c3ed4cb3147d",
   "outputs": [],
   "execution_count": null
  },
  {
   "metadata": {},
   "cell_type": "code",
   "source": "random_array.shape",
   "id": "9cd7e804b73c9a95",
   "outputs": [],
   "execution_count": null
  },
  {
   "metadata": {},
   "cell_type": "code",
   "source": [
    "#Sorting\n",
    "np.sort(random_array)"
   ],
   "id": "627737944ac5150f",
   "outputs": [],
   "execution_count": null
  },
  {
   "metadata": {},
   "cell_type": "code",
   "source": [
    "random_array\n",
    "np.argsort(random_array)"
   ],
   "id": "6f1137ce0abfa363",
   "outputs": [],
   "execution_count": null
  },
  {
   "metadata": {},
   "cell_type": "code",
   "source": "",
   "id": "af99b7df63a3e8b9",
   "outputs": [],
   "execution_count": null
  },
  {
   "metadata": {},
   "cell_type": "markdown",
   "source": "## Practical Example of Numpy In Actions\n",
   "id": "217fc8109d6d3cac"
  },
  {
   "metadata": {},
   "cell_type": "markdown",
   "source": "<img src=\"./images/panda.png\" />",
   "id": "23d58e6ea5d5f09"
  },
  {
   "metadata": {},
   "cell_type": "code",
   "source": [
    "#Turn Image into Numpy Array\n",
    "from matplotlib.image import imread\n",
    "panda = imread(\"images/panda.png\")\n",
    "print(type(panda))"
   ],
   "id": "b944c302693f00b9",
   "outputs": [],
   "execution_count": null
  },
  {
   "metadata": {
    "ExecuteTime": {
     "end_time": "2025-03-04T21:57:04.509936Z",
     "start_time": "2025-03-04T21:57:04.502164Z"
    }
   },
   "cell_type": "code",
   "source": "panda.size, panda.shape, panda.ndim\n",
   "id": "80fbdba4a394288e",
   "outputs": [
    {
     "data": {
      "text/plain": [
       "(24465000, (2330, 3500, 3), 3)"
      ]
     },
     "execution_count": 236,
     "metadata": {},
     "output_type": "execute_result"
    }
   ],
   "execution_count": 236
  },
  {
   "metadata": {
    "ExecuteTime": {
     "end_time": "2025-03-04T21:57:07.159808Z",
     "start_time": "2025-03-04T21:57:07.150701Z"
    }
   },
   "cell_type": "code",
   "source": "panda[:5]",
   "id": "2384f017fa0da542",
   "outputs": [
    {
     "data": {
      "text/plain": [
       "array([[[0.05490196, 0.10588235, 0.06666667],\n",
       "        [0.05490196, 0.10588235, 0.06666667],\n",
       "        [0.05490196, 0.10588235, 0.06666667],\n",
       "        ...,\n",
       "        [0.16470589, 0.12941177, 0.09411765],\n",
       "        [0.16470589, 0.12941177, 0.09411765],\n",
       "        [0.16470589, 0.12941177, 0.09411765]],\n",
       "\n",
       "       [[0.05490196, 0.10588235, 0.06666667],\n",
       "        [0.05490196, 0.10588235, 0.06666667],\n",
       "        [0.05490196, 0.10588235, 0.06666667],\n",
       "        ...,\n",
       "        [0.16470589, 0.12941177, 0.09411765],\n",
       "        [0.16470589, 0.12941177, 0.09411765],\n",
       "        [0.16470589, 0.12941177, 0.09411765]],\n",
       "\n",
       "       [[0.05490196, 0.10588235, 0.06666667],\n",
       "        [0.05490196, 0.10588235, 0.06666667],\n",
       "        [0.05490196, 0.10588235, 0.06666667],\n",
       "        ...,\n",
       "        [0.16470589, 0.12941177, 0.09411765],\n",
       "        [0.16470589, 0.12941177, 0.09411765],\n",
       "        [0.16470589, 0.12941177, 0.09411765]],\n",
       "\n",
       "       [[0.05490196, 0.10588235, 0.06666667],\n",
       "        [0.05490196, 0.10588235, 0.06666667],\n",
       "        [0.05490196, 0.10588235, 0.06666667],\n",
       "        ...,\n",
       "        [0.16862746, 0.13333334, 0.09803922],\n",
       "        [0.16862746, 0.13333334, 0.09803922],\n",
       "        [0.16862746, 0.13333334, 0.09803922]],\n",
       "\n",
       "       [[0.05490196, 0.10588235, 0.06666667],\n",
       "        [0.05490196, 0.10588235, 0.06666667],\n",
       "        [0.05490196, 0.10588235, 0.06666667],\n",
       "        ...,\n",
       "        [0.16862746, 0.13333334, 0.09803922],\n",
       "        [0.16862746, 0.13333334, 0.09803922],\n",
       "        [0.16862746, 0.13333334, 0.09803922]]], dtype=float32)"
      ]
     },
     "execution_count": 237,
     "metadata": {},
     "output_type": "execute_result"
    }
   ],
   "execution_count": 237
  },
  {
   "metadata": {},
   "cell_type": "markdown",
   "source": "<img src=\"./images/car-photo.png\" />",
   "id": "efb240629efd40f8"
  },
  {
   "metadata": {
    "ExecuteTime": {
     "end_time": "2025-03-05T16:34:16.655507Z",
     "start_time": "2025-03-05T16:34:16.263516Z"
    }
   },
   "cell_type": "code",
   "source": [
    "car = imread(\"images/car-photo.png\")\n",
    "print(type(car))"
   ],
   "id": "b520b5202b45f7bd",
   "outputs": [
    {
     "ename": "NameError",
     "evalue": "name 'imread' is not defined",
     "output_type": "error",
     "traceback": [
      "\u001B[1;31m---------------------------------------------------------------------------\u001B[0m",
      "\u001B[1;31mNameError\u001B[0m                                 Traceback (most recent call last)",
      "Cell \u001B[1;32mIn[1], line 1\u001B[0m\n\u001B[1;32m----> 1\u001B[0m car \u001B[38;5;241m=\u001B[39m \u001B[43mimread\u001B[49m(\u001B[38;5;124m\"\u001B[39m\u001B[38;5;124mimages/car-photo.png\u001B[39m\u001B[38;5;124m\"\u001B[39m)\n\u001B[0;32m      2\u001B[0m \u001B[38;5;28mprint\u001B[39m(\u001B[38;5;28mtype\u001B[39m(car))\n",
      "\u001B[1;31mNameError\u001B[0m: name 'imread' is not defined"
     ]
    }
   ],
   "execution_count": 1
  },
  {
   "metadata": {
    "ExecuteTime": {
     "end_time": "2025-03-04T21:59:08.055627Z",
     "start_time": "2025-03-04T21:59:08.048494Z"
    }
   },
   "cell_type": "code",
   "source": "car[:1]",
   "id": "77fd30e6fd36fe1a",
   "outputs": [
    {
     "data": {
      "text/plain": [
       "array([[[0.5019608 , 0.50980395, 0.4862745 , 1.        ],\n",
       "        [0.3372549 , 0.34509805, 0.30588236, 1.        ],\n",
       "        [0.20392157, 0.21568628, 0.14901961, 1.        ],\n",
       "        ...,\n",
       "        [0.64705884, 0.7058824 , 0.54901963, 1.        ],\n",
       "        [0.59607846, 0.63529414, 0.45882353, 1.        ],\n",
       "        [0.44705883, 0.47058824, 0.3372549 , 1.        ]]], dtype=float32)"
      ]
     },
     "execution_count": 238,
     "metadata": {},
     "output_type": "execute_result"
    }
   ],
   "execution_count": 238
  },
  {
   "metadata": {},
   "cell_type": "markdown",
   "source": [
    "HTML\n",
    "\n",
    "<img src=\"./images/dog-photo.png\" />"
   ],
   "id": "32adc8669a7201be"
  },
  {
   "metadata": {
    "ExecuteTime": {
     "end_time": "2025-03-04T22:00:54.693018Z",
     "start_time": "2025-03-04T22:00:54.671200Z"
    }
   },
   "cell_type": "code",
   "source": [
    "dog = imread(\"images/dog-photo.png\")\n",
    "print(type(dog))\n"
   ],
   "id": "8a1e6fa9733aa5a4",
   "outputs": [
    {
     "name": "stdout",
     "output_type": "stream",
     "text": [
      "<class 'numpy.ndarray'>\n"
     ]
    }
   ],
   "execution_count": 241
  },
  {
   "metadata": {
    "ExecuteTime": {
     "end_time": "2025-03-04T22:01:08.513266Z",
     "start_time": "2025-03-04T22:01:08.505816Z"
    }
   },
   "cell_type": "code",
   "source": "dog[:1]",
   "id": "c0f3ec40e5d23bc8",
   "outputs": [
    {
     "data": {
      "text/plain": [
       "array([[[0.70980394, 0.80784315, 0.88235295, 1.        ],\n",
       "        [0.72156864, 0.8117647 , 0.8862745 , 1.        ],\n",
       "        [0.7411765 , 0.8156863 , 0.8862745 , 1.        ],\n",
       "        ...,\n",
       "        [0.49803922, 0.6862745 , 0.8392157 , 1.        ],\n",
       "        [0.49411765, 0.68235296, 0.8392157 , 1.        ],\n",
       "        [0.49411765, 0.68235296, 0.8352941 , 1.        ]]], dtype=float32)"
      ]
     },
     "execution_count": 242,
     "metadata": {},
     "output_type": "execute_result"
    }
   ],
   "execution_count": 242
  },
  {
   "metadata": {},
   "cell_type": "code",
   "outputs": [],
   "execution_count": null,
   "source": "",
   "id": "1b540358c634c248"
  }
 ],
 "metadata": {
  "kernelspec": {
   "display_name": "Python 3",
   "language": "python",
   "name": "python3"
  },
  "language_info": {
   "codemirror_mode": {
    "name": "ipython",
    "version": 2
   },
   "file_extension": ".py",
   "mimetype": "text/x-python",
   "name": "python",
   "nbconvert_exporter": "python",
   "pygments_lexer": "ipython2",
   "version": "2.7.6"
  }
 },
 "nbformat": 4,
 "nbformat_minor": 5
}
