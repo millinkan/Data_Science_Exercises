{
 "cells": [
  {
   "cell_type": "markdown",
   "metadata": {},
   "source": [
    "# My Pandas Practice Zero to master  - by Millinkan @ 03-2025\n",
    "\n",
    "I created this notebook to test my knowledge in practicing different tasks with Numpy.\n",
    "\n",
    "For further reference and resources, I used the main documentation from the library creators [NumPy documentation](https://numpy.org/devdocs/user/index.html) ,the tutorial and Stack Overflow:"
   ]
  },
  {
   "cell_type": "code",
   "metadata": {
    "ExecuteTime": {
     "end_time": "2025-03-06T13:20:05.125159Z",
     "start_time": "2025-03-06T13:20:05.119086Z"
    }
   },
   "source": [
    "# Import NumPy as its abbreviation 'np'\n",
    "import numpy as np\n"
   ],
   "outputs": [],
   "execution_count": 4
  },
  {
   "cell_type": "code",
   "metadata": {
    "ExecuteTime": {
     "end_time": "2025-03-06T13:23:56.873048Z",
     "start_time": "2025-03-06T13:23:56.863976Z"
    }
   },
   "source": [
    "# Create a 1-dimensional NumPy array using np.array()\n",
    "np_array_1d = np.array([1, 2, 3, 4, 5])\n",
    "#np_array_1d\n",
    "# Create a 2-dimensional NumPy array using np.array()\n",
    "np_array_2d = np.array([[1, 2, 3],\n",
    "                        [4, 5, 6],\n",
    "                        [7, 8, 9]])\n",
    "#np_array_2d\n",
    "# Create a 3-dimensional Numpy array using np.array()\n",
    "np_array_3d = np.array([ [[1, 2, 3],\n",
    "                          [4, 5, 6],\n",
    "                          [7, 8, 9]],\n",
    "                         [[10, 11, 12],\n",
    "                          [13, 14, 15],\n",
    "                          [16, 17, 18]],\n",
    "                         ])\n",
    "np_array_3d"
   ],
   "outputs": [
    {
     "data": {
      "text/plain": [
       "array([[[ 1,  2,  3],\n",
       "        [ 4,  5,  6],\n",
       "        [ 7,  8,  9]],\n",
       "\n",
       "       [[10, 11, 12],\n",
       "        [13, 14, 15],\n",
       "        [16, 17, 18]]])"
      ]
     },
     "execution_count": 11,
     "metadata": {},
     "output_type": "execute_result"
    }
   ],
   "execution_count": 11
  },
  {
   "cell_type": "markdown",
   "metadata": {},
   "source": [
    "Now we've you've created 3 different arrays, let's find details about them.\n",
    "\n",
    "Find the shape, number of dimensions, data type, size and type of each array."
   ]
  },
  {
   "cell_type": "code",
   "metadata": {
    "ExecuteTime": {
     "end_time": "2025-03-06T13:25:47.682955Z",
     "start_time": "2025-03-06T13:25:47.675900Z"
    }
   },
   "source": [
    "# Attributes of 1-dimensional array (shape, \n",
    "# number of dimensions, data type, size and type)\n",
    "np_array_1d.shape, np_array_1d.ndim, np_array_1d.dtype, np_array_1d.size"
   ],
   "outputs": [
    {
     "data": {
      "text/plain": [
       "((5,), 1, dtype('int64'), 5)"
      ]
     },
     "execution_count": 16,
     "metadata": {},
     "output_type": "execute_result"
    }
   ],
   "execution_count": 16
  },
  {
   "cell_type": "code",
   "execution_count": 4,
   "metadata": {},
   "outputs": [],
   "source": [
    "# Attributes of 2-dimensional array\n",
    "np_array_2d.shape, np_array_2d.ndim, np_array_2d.dtype, np_array_2d.size"
   ]
  },
  {
   "cell_type": "code",
   "execution_count": 5,
   "metadata": {},
   "outputs": [],
   "source": [
    "# Attributes of 3-dimensional array\n",
    "np_array_3d.shape, np_array_3d.ndim, np_array_3d.dtype, np_array_3d.size"
   ]
  },
  {
   "cell_type": "code",
   "metadata": {
    "ExecuteTime": {
     "end_time": "2025-03-06T13:28:00.890388Z",
     "start_time": "2025-03-06T13:28:00.882084Z"
    }
   },
   "source": [
    "# Import pandas and create a DataFrame out of one\n",
    "# of the arrays you've created\n",
    "import pandas as pd\n",
    "np_df = pd.DataFrame(np_array_2d)\n",
    "np_df"
   ],
   "outputs": [
    {
     "data": {
      "text/plain": [
       "   0  1  2\n",
       "0  1  2  3\n",
       "1  4  5  6\n",
       "2  7  8  9"
      ],
      "text/html": [
       "<div>\n",
       "<style scoped>\n",
       "    .dataframe tbody tr th:only-of-type {\n",
       "        vertical-align: middle;\n",
       "    }\n",
       "\n",
       "    .dataframe tbody tr th {\n",
       "        vertical-align: top;\n",
       "    }\n",
       "\n",
       "    .dataframe thead th {\n",
       "        text-align: right;\n",
       "    }\n",
       "</style>\n",
       "<table border=\"1\" class=\"dataframe\">\n",
       "  <thead>\n",
       "    <tr style=\"text-align: right;\">\n",
       "      <th></th>\n",
       "      <th>0</th>\n",
       "      <th>1</th>\n",
       "      <th>2</th>\n",
       "    </tr>\n",
       "  </thead>\n",
       "  <tbody>\n",
       "    <tr>\n",
       "      <th>0</th>\n",
       "      <td>1</td>\n",
       "      <td>2</td>\n",
       "      <td>3</td>\n",
       "    </tr>\n",
       "    <tr>\n",
       "      <th>1</th>\n",
       "      <td>4</td>\n",
       "      <td>5</td>\n",
       "      <td>6</td>\n",
       "    </tr>\n",
       "    <tr>\n",
       "      <th>2</th>\n",
       "      <td>7</td>\n",
       "      <td>8</td>\n",
       "      <td>9</td>\n",
       "    </tr>\n",
       "  </tbody>\n",
       "</table>\n",
       "</div>"
      ]
     },
     "execution_count": 19,
     "metadata": {},
     "output_type": "execute_result"
    }
   ],
   "execution_count": 19
  },
  {
   "cell_type": "code",
   "metadata": {
    "ExecuteTime": {
     "end_time": "2025-03-06T13:40:16.702184Z",
     "start_time": "2025-03-06T13:40:16.694854Z"
    }
   },
   "source": [
    "# Create an array of shape (10, 2) with only ones : The full key word can be used as \"np.full()\"\n",
    "#array_ones = np.ones((10, 2))\n",
    "#array_ones\n",
    "#Create an array of shape (7, 2) with only fives\n",
    "array_fives = np.full((7, 2), 5) # array of fives of shape (7, 2)\n",
    "\n",
    "arrays_zeros= np.full((10, 2),0) # array of zeros of shape (10, 2)\n",
    "arrays_zeros"
   ],
   "outputs": [
    {
     "data": {
      "text/plain": [
       "array([[0, 0],\n",
       "       [0, 0],\n",
       "       [0, 0],\n",
       "       [0, 0],\n",
       "       [0, 0],\n",
       "       [0, 0],\n",
       "       [0, 0],\n",
       "       [0, 0],\n",
       "       [0, 0],\n",
       "       [0, 0]])"
      ]
     },
     "execution_count": 32,
     "metadata": {},
     "output_type": "execute_result"
    }
   ],
   "execution_count": 32
  },
  {
   "cell_type": "code",
   "metadata": {
    "ExecuteTime": {
     "end_time": "2025-03-06T13:41:03.758564Z",
     "start_time": "2025-03-06T13:41:03.749950Z"
    }
   },
   "source": [
    "# Create an array of shape (7, 2, 3) of only zeros\n",
    "np_array_3d_zeros = np.zeros((7, 2, 3))\n",
    "np_array_3d_zeros"
   ],
   "outputs": [
    {
     "data": {
      "text/plain": [
       "array([[[0., 0., 0.],\n",
       "        [0., 0., 0.]],\n",
       "\n",
       "       [[0., 0., 0.],\n",
       "        [0., 0., 0.]],\n",
       "\n",
       "       [[0., 0., 0.],\n",
       "        [0., 0., 0.]],\n",
       "\n",
       "       [[0., 0., 0.],\n",
       "        [0., 0., 0.]],\n",
       "\n",
       "       [[0., 0., 0.],\n",
       "        [0., 0., 0.]],\n",
       "\n",
       "       [[0., 0., 0.],\n",
       "        [0., 0., 0.]],\n",
       "\n",
       "       [[0., 0., 0.],\n",
       "        [0., 0., 0.]]])"
      ]
     },
     "execution_count": 33,
     "metadata": {},
     "output_type": "execute_result"
    }
   ],
   "execution_count": 33
  },
  {
   "cell_type": "code",
   "metadata": {
    "ExecuteTime": {
     "end_time": "2025-03-06T13:41:47.345149Z",
     "start_time": "2025-03-06T13:41:47.337965Z"
    }
   },
   "source": [
    "# Create an array within a range of 0 and 100 with step 3\n",
    "np_array_range = np.arange(0, 101, 3) # array of numbers between 0 and 100 with step 3\n",
    "np_array_range"
   ],
   "outputs": [
    {
     "data": {
      "text/plain": [
       "array([ 0,  3,  6,  9, 12, 15, 18, 21, 24, 27, 30, 33, 36, 39, 42, 45, 48,\n",
       "       51, 54, 57, 60, 63, 66, 69, 72, 75, 78, 81, 84, 87, 90, 93, 96, 99])"
      ]
     },
     "execution_count": 34,
     "metadata": {},
     "output_type": "execute_result"
    }
   ],
   "execution_count": 34
  },
  {
   "cell_type": "code",
   "metadata": {
    "ExecuteTime": {
     "end_time": "2025-03-06T13:44:40.228259Z",
     "start_time": "2025-03-06T13:44:40.220043Z"
    }
   },
   "source": [
    "# Create a random array with numbers between 0 and 10 of size (7, 2)\n",
    "np_array_random = np.random.randint(0, 11, (7, 2)) # array of random numbers between 0 and 10 of size (7, 2)\n",
    "np_array_random\n",
    "#Alternative\n",
    "random_array = np.random.randint(10, size=(7, 2)) # Specify the range and size of the array and  10\n",
    "random_array"
   ],
   "outputs": [
    {
     "data": {
      "text/plain": [
       "array([[7, 0],\n",
       "       [8, 6],\n",
       "       [4, 7],\n",
       "       [0, 6],\n",
       "       [3, 3],\n",
       "       [1, 6],\n",
       "       [4, 5]], dtype=int32)"
      ]
     },
     "execution_count": 36,
     "metadata": {},
     "output_type": "execute_result"
    }
   ],
   "execution_count": 36
  },
  {
   "cell_type": "code",
   "metadata": {
    "ExecuteTime": {
     "end_time": "2025-03-06T13:48:33.241848Z",
     "start_time": "2025-03-06T13:48:33.233563Z"
    }
   },
   "source": [
    "# Create a random array of floats between 0 & 1 of shape (3, 5)\n",
    "np_array_floats = np.random.rand(3, 5) # array of random floats between 0 and 1 of shape (3, 5)\n",
    "np_array_floats\n",
    "# Alternatively\n",
    "#np_array_floats = np.random.uniform(0, 1, (3, 5)) # introducing a more efficient way to generate random floats\n",
    "#np_array_floats"
   ],
   "outputs": [
    {
     "data": {
      "text/plain": [
       "array([[0.68682251, 0.18291509, 0.44610702, 0.67703182, 0.64741197],\n",
       "       [0.15880488, 0.50818112, 0.16601464, 0.78866336, 0.99590979],\n",
       "       [0.74274201, 0.33017866, 0.52639196, 0.860766  , 0.89229937]])"
      ]
     },
     "execution_count": 39,
     "metadata": {},
     "output_type": "execute_result"
    }
   ],
   "execution_count": 39
  },
  {
   "cell_type": "code",
   "metadata": {
    "ExecuteTime": {
     "end_time": "2025-03-06T14:04:31.752780Z",
     "start_time": "2025-03-06T14:04:31.744610Z"
    }
   },
   "source": [
    "# Set the random seed to 42\n",
    "np.random.seed(42)\n",
    "\n",
    "# Create a random array of numbers between 0 & 10 of size (4, 6)\n",
    "np_array_random_2 = np.random.randint(0, 11, (4, 6)) # array of random numbers between 0 and 10 of size ()\n",
    "np_array_random_2"
   ],
   "outputs": [
    {
     "data": {
      "text/plain": [
       "array([[ 6,  3, 10,  7,  4,  6],\n",
       "       [ 9,  2,  6, 10, 10,  7],\n",
       "       [ 4,  3,  7,  7,  2,  5],\n",
       "       [ 4,  1,  7,  5,  1,  4]], dtype=int32)"
      ]
     },
     "execution_count": 55,
     "metadata": {},
     "output_type": "execute_result"
    }
   ],
   "execution_count": 55
  },
  {
   "cell_type": "markdown",
   "metadata": {},
   "source": [
    "Run the cell above again, what happens?\n",
    "\n",
    "Are the numbers in the array different or the same? Why do think this is?\n",
    "With the introduction of the random seed, the random number generator starts generating numbers from a specific state,\n",
    "The numbers are generated in a repeatable manner."
   ]
  },
  {
   "cell_type": "code",
   "metadata": {
    "ExecuteTime": {
     "end_time": "2025-03-06T14:14:06.560643Z",
     "start_time": "2025-03-06T14:14:06.552951Z"
    }
   },
   "source": [
    "# Create an array of random numbers between 1 & 10 of size (3, 7)\n",
    "# and save it to a variable\n",
    "np_array_random_3 = np.random.randint(1, 11, (3, 7)) # array of random numbers between 1 and 10 of size ()\n",
    "np_array_random_3\n",
    "\n",
    "# Find the unique numbers in the array you just created\n",
    "#np.unique(np_array_random_3)\n",
    "\n"
   ],
   "outputs": [
    {
     "data": {
      "text/plain": [
       "array([[10,  2, 10,  4,  8,  7,  9],\n",
       "       [ 8,  5,  2,  5,  8, 10,  9],\n",
       "       [ 9,  1,  9,  7,  9,  8,  1]], dtype=int32)"
      ]
     },
     "execution_count": 61,
     "metadata": {},
     "output_type": "execute_result"
    }
   ],
   "execution_count": 61
  },
  {
   "cell_type": "code",
   "metadata": {
    "ExecuteTime": {
     "end_time": "2025-03-06T14:14:31.832395Z",
     "start_time": "2025-03-06T14:14:31.824833Z"
    }
   },
   "source": [
    "# Find the 0'th index of the latest array you created\n",
    "np_array_random_3\n",
    "np_array_random_3[0]\n"
   ],
   "outputs": [
    {
     "data": {
      "text/plain": [
       "array([10,  2, 10,  4,  8,  7,  9], dtype=int32)"
      ]
     },
     "execution_count": 62,
     "metadata": {},
     "output_type": "execute_result"
    }
   ],
   "execution_count": 62
  },
  {
   "cell_type": "code",
   "metadata": {
    "ExecuteTime": {
     "end_time": "2025-03-06T14:14:50.509843Z",
     "start_time": "2025-03-06T14:14:50.502455Z"
    }
   },
   "source": [
    "# Get the first 2 rows of latest array you created\n",
    "np_array_random_3[:2]\n"
   ],
   "outputs": [
    {
     "data": {
      "text/plain": [
       "array([[10,  2, 10,  4,  8,  7,  9],\n",
       "       [ 8,  5,  2,  5,  8, 10,  9]], dtype=int32)"
      ]
     },
     "execution_count": 63,
     "metadata": {},
     "output_type": "execute_result"
    }
   ],
   "execution_count": 63
  },
  {
   "cell_type": "code",
   "metadata": {
    "ExecuteTime": {
     "end_time": "2025-03-06T14:17:56.936254Z",
     "start_time": "2025-03-06T14:17:56.928806Z"
    }
   },
   "source": [
    "# Get the first 2 values of the first 2 rows of the latest array\n",
    "np_array_random_3[:2, :2]"
   ],
   "outputs": [
    {
     "data": {
      "text/plain": [
       "array([[10,  2],\n",
       "       [ 8,  5]], dtype=int32)"
      ]
     },
     "execution_count": 68,
     "metadata": {},
     "output_type": "execute_result"
    }
   ],
   "execution_count": 68
  },
  {
   "cell_type": "code",
   "metadata": {
    "ExecuteTime": {
     "end_time": "2025-03-06T14:22:51.972378Z",
     "start_time": "2025-03-06T14:22:51.963158Z"
    }
   },
   "source": [
    "# Create a random array of numbers between 0 & 10 and an array of ones\n",
    "# both of size (3, 5), save them both to variables\n",
    "np_array_random_4 = np.random.randint(0, 11, (3, 5)) # array of random numbers between 0 and 10 of size\n",
    "np_array_random_4\n",
    "np_array_ones = np.full((3, 5),1) # array of ones of size (3, 5)\n",
    "np_array_ones\n"
   ],
   "outputs": [
    {
     "data": {
      "text/plain": [
       "array([[1, 1, 1, 1, 1],\n",
       "       [1, 1, 1, 1, 1],\n",
       "       [1, 1, 1, 1, 1]])"
      ]
     },
     "execution_count": 76,
     "metadata": {},
     "output_type": "execute_result"
    }
   ],
   "execution_count": 76
  },
  {
   "cell_type": "code",
   "metadata": {
    "ExecuteTime": {
     "end_time": "2025-03-06T14:22:54.816728Z",
     "start_time": "2025-03-06T14:22:54.807945Z"
    }
   },
   "source": [
    "# Add the two arrays together\n",
    "\n",
    "np.add(np_array_random_4, np_array_ones)\n"
   ],
   "outputs": [
    {
     "data": {
      "text/plain": [
       "array([[ 6,  4, 11, 10,  7],\n",
       "       [ 9,  7,  1,  1,  9],\n",
       "       [11,  9,  4,  9,  3]])"
      ]
     },
     "execution_count": 77,
     "metadata": {},
     "output_type": "execute_result"
    }
   ],
   "execution_count": 77
  },
  {
   "cell_type": "code",
   "metadata": {
    "ExecuteTime": {
     "end_time": "2025-03-06T14:23:26.793545Z",
     "start_time": "2025-03-06T14:23:26.784962Z"
    }
   },
   "source": [
    "# Create another array of ones of shape (5, 3)\n",
    "np_array_ones_2 = np.ones((5, 3)) # array of ones of size (5, 3)\n",
    "np_array_ones_2"
   ],
   "outputs": [
    {
     "data": {
      "text/plain": [
       "array([[1., 1., 1.],\n",
       "       [1., 1., 1.],\n",
       "       [1., 1., 1.],\n",
       "       [1., 1., 1.],\n",
       "       [1., 1., 1.]])"
      ]
     },
     "execution_count": 78,
     "metadata": {},
     "output_type": "execute_result"
    }
   ],
   "execution_count": 78
  },
  {
   "cell_type": "code",
   "metadata": {
    "ExecuteTime": {
     "end_time": "2025-03-06T14:24:34.192126Z",
     "start_time": "2025-03-06T14:24:34.166316Z"
    }
   },
   "source": [
    "# Try add the array of ones and the other most recent array together - The shape of the arrays must be compatible for this operation. Product illegal in numpy\n",
    "# So an error is expected here\n",
    "np.add(np_array_random_4, np_array_ones_2)\n"
   ],
   "outputs": [
    {
     "ename": "ValueError",
     "evalue": "operands could not be broadcast together with shapes (3,5) (5,3) ",
     "output_type": "error",
     "traceback": [
      "\u001B[1;31m---------------------------------------------------------------------------\u001B[0m",
      "\u001B[1;31mValueError\u001B[0m                                Traceback (most recent call last)",
      "Cell \u001B[1;32mIn[79], line 3\u001B[0m\n\u001B[0;32m      1\u001B[0m \u001B[38;5;66;03m# Try add the array of ones and the other most recent array together - The shape of the arrays must be compatible for this operation. Product illegal in numpy\u001B[39;00m\n\u001B[0;32m      2\u001B[0m \u001B[38;5;66;03m# So an error is expected here\u001B[39;00m\n\u001B[1;32m----> 3\u001B[0m \u001B[43mnp\u001B[49m\u001B[38;5;241;43m.\u001B[39;49m\u001B[43madd\u001B[49m\u001B[43m(\u001B[49m\u001B[43mnp_array_random_4\u001B[49m\u001B[43m,\u001B[49m\u001B[43m \u001B[49m\u001B[43mnp_array_ones_2\u001B[49m\u001B[43m)\u001B[49m\n",
      "\u001B[1;31mValueError\u001B[0m: operands could not be broadcast together with shapes (3,5) (5,3) "
     ]
    }
   ],
   "execution_count": 79
  },
  {
   "cell_type": "markdown",
   "metadata": {},
   "source": [
    "When you try the last cell, it produces an error. Why do think this is?\n",
    "\n",
    "How would you fix it?"
   ]
  },
  {
   "cell_type": "code",
   "metadata": {
    "ExecuteTime": {
     "end_time": "2025-03-06T14:24:50.855750Z",
     "start_time": "2025-03-06T14:24:50.847289Z"
    }
   },
   "source": [
    "# Create another array of ones of shape (3, 5)\n",
    "np_array_ones_3 = np.ones((3, 5)) # array of ones of size (3, 5)\n",
    "np_array_ones_3\n"
   ],
   "outputs": [
    {
     "data": {
      "text/plain": [
       "array([[1., 1., 1., 1., 1.],\n",
       "       [1., 1., 1., 1., 1.],\n",
       "       [1., 1., 1., 1., 1.]])"
      ]
     },
     "execution_count": 80,
     "metadata": {},
     "output_type": "execute_result"
    }
   ],
   "execution_count": 80
  },
  {
   "cell_type": "code",
   "metadata": {
    "ExecuteTime": {
     "end_time": "2025-03-06T14:29:42.928832Z",
     "start_time": "2025-03-06T14:29:42.919433Z"
    }
   },
   "source": [
    "# Subtract the new array of ones from the other most recent array\n",
    "np.subtract(np_array_random_4, np_array_ones_3)\n"
   ],
   "outputs": [
    {
     "data": {
      "text/plain": [
       "array([[ 4.,  2.,  9.,  8.,  5.],\n",
       "       [ 7.,  5., -1., -1.,  7.],\n",
       "       [ 9.,  7.,  2.,  7.,  1.]])"
      ]
     },
     "execution_count": 81,
     "metadata": {},
     "output_type": "execute_result"
    }
   ],
   "execution_count": 81
  },
  {
   "cell_type": "code",
   "metadata": {
    "ExecuteTime": {
     "end_time": "2025-03-06T14:37:35.423623Z",
     "start_time": "2025-03-06T14:37:35.416161Z"
    }
   },
   "source": [
    "# Multiply the ones array with the latest array ##\n",
    "np.multiply(np_array_random_4, np_array_ones_3)\n",
    "\n"
   ],
   "outputs": [
    {
     "data": {
      "text/plain": [
       "array([[ 5.,  3., 10.,  9.,  6.],\n",
       "       [ 8.,  6.,  0.,  0.,  8.],\n",
       "       [10.,  8.,  3.,  8.,  2.]])"
      ]
     },
     "execution_count": 84,
     "metadata": {},
     "output_type": "execute_result"
    }
   ],
   "execution_count": 84
  },
  {
   "cell_type": "code",
   "metadata": {
    "ExecuteTime": {
     "end_time": "2025-03-06T14:37:39.642986Z",
     "start_time": "2025-03-06T14:37:39.636340Z"
    }
   },
   "source": [
    "# Take the latest array to the power of 2 using '**'\n",
    "np.power(np_array_random_4, 2) # Using the inbuilt power operator\n",
    "#Alternatively\n",
    "np_array_random_4 ** 2 # Using the inbuilt power operator"
   ],
   "outputs": [
    {
     "data": {
      "text/plain": [
       "array([[ 25,   9, 100,  81,  36],\n",
       "       [ 64,  36,   0,   0,  64],\n",
       "       [100,  64,   9,  64,   4]], dtype=int32)"
      ]
     },
     "execution_count": 85,
     "metadata": {},
     "output_type": "execute_result"
    }
   ],
   "execution_count": 85
  },
  {
   "cell_type": "code",
   "metadata": {
    "ExecuteTime": {
     "end_time": "2025-03-06T14:37:58.265619Z",
     "start_time": "2025-03-06T14:37:58.257576Z"
    }
   },
   "source": [
    "# Do the same thing with np.square()\n",
    "np.square(np_array_random_4) # Using the inbuilt square function\n"
   ],
   "outputs": [
    {
     "data": {
      "text/plain": [
       "array([[ 25,   9, 100,  81,  36],\n",
       "       [ 64,  36,   0,   0,  64],\n",
       "       [100,  64,   9,  64,   4]], dtype=int32)"
      ]
     },
     "execution_count": 86,
     "metadata": {},
     "output_type": "execute_result"
    }
   ],
   "execution_count": 86
  },
  {
   "cell_type": "code",
   "metadata": {
    "ExecuteTime": {
     "end_time": "2025-03-06T14:38:12.425178Z",
     "start_time": "2025-03-06T14:38:12.416918Z"
    }
   },
   "source": [
    "# Find the mean of the latest array using np.mean()\n",
    "np.mean(np_array_random_4) # Using the inbuilt mean function"
   ],
   "outputs": [
    {
     "data": {
      "text/plain": [
       "np.float64(5.733333333333333)"
      ]
     },
     "execution_count": 87,
     "metadata": {},
     "output_type": "execute_result"
    }
   ],
   "execution_count": 87
  },
  {
   "cell_type": "code",
   "metadata": {
    "ExecuteTime": {
     "end_time": "2025-03-06T14:38:23.852986Z",
     "start_time": "2025-03-06T14:38:23.846084Z"
    }
   },
   "source": [
    "# Find the maximum of the latest array using np.max()\n",
    "np.max(np_array_random_4) # Using the inbuilt max function"
   ],
   "outputs": [
    {
     "data": {
      "text/plain": [
       "np.int32(10)"
      ]
     },
     "execution_count": 88,
     "metadata": {},
     "output_type": "execute_result"
    }
   ],
   "execution_count": 88
  },
  {
   "cell_type": "code",
   "metadata": {
    "ExecuteTime": {
     "end_time": "2025-03-06T14:38:40.155221Z",
     "start_time": "2025-03-06T14:38:40.148306Z"
    }
   },
   "source": [
    "# Find the minimum of the latest array using np.min()\n",
    "np.min(np_array_random_4) # Using the inbuilt min function"
   ],
   "outputs": [
    {
     "data": {
      "text/plain": [
       "np.int32(0)"
      ]
     },
     "execution_count": 89,
     "metadata": {},
     "output_type": "execute_result"
    }
   ],
   "execution_count": 89
  },
  {
   "cell_type": "code",
   "metadata": {
    "ExecuteTime": {
     "end_time": "2025-03-06T14:40:10.326719Z",
     "start_time": "2025-03-06T14:40:10.317161Z"
    }
   },
   "source": [
    "# Find the standard deviation of the latest array\n",
    "np.std(np_array_random_4) # Using the inbuilt std function"
   ],
   "outputs": [
    {
     "data": {
      "text/plain": [
       "np.float64(3.2957885584822066)"
      ]
     },
     "execution_count": 90,
     "metadata": {},
     "output_type": "execute_result"
    }
   ],
   "execution_count": 90
  },
  {
   "cell_type": "code",
   "metadata": {
    "ExecuteTime": {
     "end_time": "2025-03-06T14:40:24.267299Z",
     "start_time": "2025-03-06T14:40:24.259661Z"
    }
   },
   "source": [
    "# Find the variance of the latest array\n",
    "np.var(np_array_random_4) # Using the inbuilt var function"
   ],
   "outputs": [
    {
     "data": {
      "text/plain": [
       "np.float64(10.86222222222222)"
      ]
     },
     "execution_count": 91,
     "metadata": {},
     "output_type": "execute_result"
    }
   ],
   "execution_count": 91
  },
  {
   "cell_type": "code",
   "metadata": {
    "ExecuteTime": {
     "end_time": "2025-03-06T14:40:45.183630Z",
     "start_time": "2025-03-06T14:40:45.176453Z"
    }
   },
   "source": [
    "# Reshape the latest array to (3, 5, 1)\n",
    "np.reshape(np_array_random_4, (3, 5, 1)) # Using the inbuilt reshape function"
   ],
   "outputs": [
    {
     "data": {
      "text/plain": [
       "array([[[ 5],\n",
       "        [ 3],\n",
       "        [10],\n",
       "        [ 9],\n",
       "        [ 6]],\n",
       "\n",
       "       [[ 8],\n",
       "        [ 6],\n",
       "        [ 0],\n",
       "        [ 0],\n",
       "        [ 8]],\n",
       "\n",
       "       [[10],\n",
       "        [ 8],\n",
       "        [ 3],\n",
       "        [ 8],\n",
       "        [ 2]]], dtype=int32)"
      ]
     },
     "execution_count": 92,
     "metadata": {},
     "output_type": "execute_result"
    }
   ],
   "execution_count": 92
  },
  {
   "cell_type": "code",
   "metadata": {
    "ExecuteTime": {
     "end_time": "2025-03-06T14:42:27.568125Z",
     "start_time": "2025-03-06T14:42:27.560935Z"
    }
   },
   "source": [
    "# Transpose the latest array\n",
    "np.transpose(np_array_random_4) # Using the inbuilt transpose function\n",
    "#Alternatively\n",
    "np_array_random_4.T # Using the inbuilt transpose function"
   ],
   "outputs": [
    {
     "data": {
      "text/plain": [
       "array([[ 5,  8, 10],\n",
       "       [ 3,  6,  8],\n",
       "       [10,  0,  3],\n",
       "       [ 9,  0,  8],\n",
       "       [ 6,  8,  2]], dtype=int32)"
      ]
     },
     "execution_count": 95,
     "metadata": {},
     "output_type": "execute_result"
    }
   ],
   "execution_count": 95
  },
  {
   "cell_type": "markdown",
   "metadata": {},
   "source": [
    "What does the transpose do?"
   ]
  },
  {
   "cell_type": "code",
   "execution_count": 33,
   "metadata": {},
   "outputs": [],
   "source": [
    "# Create two arrays of random integers between 0 to 10\n",
    "# one of size (3, 3) the other of size (3, 2)\n",
    "np_array_random_5 = np.random.randint(0, 11, (3, 3)) # array of random numbers between 0 and 10 of size\n",
    "np_array_random_6 = np.random.randint(0, 11, (3, 2)) # array of random numbers between 0 and 10 of size (3, 2)\n"
   ]
  },
  {
   "cell_type": "code",
   "metadata": {
    "ExecuteTime": {
     "end_time": "2025-03-06T14:51:23.265989Z",
     "start_time": "2025-03-06T14:51:23.244475Z"
    }
   },
   "source": [
    "# Perform a dot product on the two newest arrays you created. An error is expected here. Arrays must have compatible dimensions for a dot product.\n",
    "np.dot(np_array_random_5, np_array_random_6)"
   ],
   "outputs": [
    {
     "ename": "NameError",
     "evalue": "name 'np_array_random_5' is not defined",
     "output_type": "error",
     "traceback": [
      "\u001B[1;31m---------------------------------------------------------------------------\u001B[0m",
      "\u001B[1;31mNameError\u001B[0m                                 Traceback (most recent call last)",
      "Cell \u001B[1;32mIn[103], line 2\u001B[0m\n\u001B[0;32m      1\u001B[0m \u001B[38;5;66;03m# Perform a dot product on the two newest arrays you created. An error is expected here. Arrays must have compatible dimensions for a dot product.\u001B[39;00m\n\u001B[1;32m----> 2\u001B[0m np\u001B[38;5;241m.\u001B[39mdot(\u001B[43mnp_array_random_5\u001B[49m, np_array_random_6)\n",
      "\u001B[1;31mNameError\u001B[0m: name 'np_array_random_5' is not defined"
     ]
    }
   ],
   "execution_count": 103
  },
  {
   "cell_type": "code",
   "metadata": {
    "ExecuteTime": {
     "end_time": "2025-03-06T14:51:28.370752Z",
     "start_time": "2025-03-06T14:51:28.363162Z"
    }
   },
   "source": [
    "# Create two arrays of random integers between 0 to 10\n",
    "# both of size (4, 3)\n",
    "np_array_random_7 = np.random.randint(0, 11, (4, 3)) # array of random numbers between 0 and 10 of size\n",
    "np_array_random_8 = np.random.randint(0, 11, (4, 3)) # array of random numbers between 0 and 10 of size (4, 3)\n",
    "np_array_random_7\n"
   ],
   "outputs": [
    {
     "data": {
      "text/plain": [
       "array([[ 0,  7,  6],\n",
       "       [ 1,  7,  0],\n",
       "       [10,  8,  8],\n",
       "       [ 1,  6,  9]], dtype=int32)"
      ]
     },
     "execution_count": 104,
     "metadata": {},
     "output_type": "execute_result"
    }
   ],
   "execution_count": 104
  },
  {
   "cell_type": "code",
   "metadata": {
    "ExecuteTime": {
     "end_time": "2025-03-06T14:52:49.201010Z",
     "start_time": "2025-03-06T14:52:49.177402Z"
    }
   },
   "source": [
    "# Perform a dot product on the two newest arrays you created\n",
    "np.dot(np_array_random_7, np_array_random_8) # Using the inbuilt dot function\n"
   ],
   "outputs": [
    {
     "ename": "ValueError",
     "evalue": "shapes (4,3) and (4,3) not aligned: 3 (dim 1) != 4 (dim 0)",
     "output_type": "error",
     "traceback": [
      "\u001B[1;31m---------------------------------------------------------------------------\u001B[0m",
      "\u001B[1;31mValueError\u001B[0m                                Traceback (most recent call last)",
      "Cell \u001B[1;32mIn[105], line 2\u001B[0m\n\u001B[0;32m      1\u001B[0m \u001B[38;5;66;03m# Perform a dot product on the two newest arrays you created\u001B[39;00m\n\u001B[1;32m----> 2\u001B[0m \u001B[43mnp\u001B[49m\u001B[38;5;241;43m.\u001B[39;49m\u001B[43mdot\u001B[49m\u001B[43m(\u001B[49m\u001B[43mnp_array_random_7\u001B[49m\u001B[43m,\u001B[49m\u001B[43m \u001B[49m\u001B[43mnp_array_random_8\u001B[49m\u001B[43m)\u001B[49m \u001B[38;5;66;03m# Using the inbuilt dot function\u001B[39;00m\n",
      "\u001B[1;31mValueError\u001B[0m: shapes (4,3) and (4,3) not aligned: 3 (dim 1) != 4 (dim 0)"
     ]
    }
   ],
   "execution_count": 105
  },
  {
   "cell_type": "markdown",
   "metadata": {},
   "source": "It doesn't work. How would you fix it?. Transpose one of the arrays before performing the dot product."
  },
  {
   "cell_type": "code",
   "metadata": {
    "ExecuteTime": {
     "end_time": "2025-03-06T14:53:12.707769Z",
     "start_time": "2025-03-06T14:53:12.697933Z"
    }
   },
   "source": [
    "# Take the latest two arrays, perform a transpose on one of them and then perform \n",
    "# a dot product on them both\n",
    "np.dot(np_array_random_7.T, np_array_random_8) # Using the inbuilt dot function with the Transposre function T\n"
   ],
   "outputs": [
    {
     "data": {
      "text/plain": [
       "array([[ 22,  13,  46],\n",
       "       [102, 123, 131],\n",
       "       [ 56, 126, 140]], dtype=int32)"
      ]
     },
     "execution_count": 106,
     "metadata": {},
     "output_type": "execute_result"
    }
   ],
   "execution_count": 106
  },
  {
   "cell_type": "markdown",
   "metadata": {},
   "source": [
    "Notice how performing a transpose allows the dot product to happen.\n",
    "\n",
    "Why is this?\n",
    "\n",
    "Checking out the documentation on [`np.dot()`](https://docs.scipy.org/doc/numpy/reference/generated/numpy.dot.html) may help, as well as reading [Math is Fun's guide on the dot product](https://www.mathsisfun.com/algebra/vectors-dot-product.html).\n",
    "\n",
    "Let's now compare arrays."
   ]
  },
  {
   "cell_type": "code",
   "metadata": {
    "ExecuteTime": {
     "end_time": "2025-03-06T15:23:25.942207Z",
     "start_time": "2025-03-06T15:23:25.935954Z"
    }
   },
   "source": [
    "# Create two arrays of random integers between 0 & 10 of the same shape\n",
    "# and save them to variables\n",
    "np_array_random_9 = np.random.randint(0, 11, (3, 4)) # array of random numbers between 0 and 10 of size\n",
    "np_array_random_10 = np.random.randint(0, 11, (3, 4)) # array of random numbers between 0 and 10 of size"
   ],
   "outputs": [],
   "execution_count": 108
  },
  {
   "cell_type": "code",
   "metadata": {
    "ExecuteTime": {
     "end_time": "2025-03-06T15:23:27.749779Z",
     "start_time": "2025-03-06T15:23:27.742799Z"
    }
   },
   "source": [
    "# Compare the two arrays with '>'\n",
    "np_array_random_9 > np_array_random_10"
   ],
   "outputs": [
    {
     "data": {
      "text/plain": [
       "array([[False,  True, False, False],\n",
       "       [False, False,  True,  True],\n",
       "       [False, False, False,  True]])"
      ]
     },
     "execution_count": 109,
     "metadata": {},
     "output_type": "execute_result"
    }
   ],
   "execution_count": 109
  },
  {
   "cell_type": "markdown",
   "metadata": {},
   "source": "What happens when you compare the arrays with `>`? A table is displayed below with the comparison results with are boolean values."
  },
  {
   "cell_type": "code",
   "metadata": {
    "ExecuteTime": {
     "end_time": "2025-03-06T15:24:12.602575Z",
     "start_time": "2025-03-06T15:24:12.595301Z"
    }
   },
   "source": [
    "# Compare the two arrays with '>='\n",
    "np_array_random_9 >= np_array_random_10"
   ],
   "outputs": [
    {
     "data": {
      "text/plain": [
       "array([[False,  True, False, False],\n",
       "       [False, False,  True,  True],\n",
       "       [False, False, False,  True]])"
      ]
     },
     "execution_count": 110,
     "metadata": {},
     "output_type": "execute_result"
    }
   ],
   "execution_count": 110
  },
  {
   "cell_type": "code",
   "metadata": {
    "ExecuteTime": {
     "end_time": "2025-03-06T15:25:44.021126Z",
     "start_time": "2025-03-06T15:25:44.011319Z"
    }
   },
   "source": [
    "# Find which elements of the first array are greater than 7\n",
    "np.where(np_array_random_9 > 7)"
   ],
   "outputs": [
    {
     "data": {
      "text/plain": [
       "(array([0, 0]), array([0, 1]))"
      ]
     },
     "execution_count": 111,
     "metadata": {},
     "output_type": "execute_result"
    }
   ],
   "execution_count": 111
  },
  {
   "cell_type": "code",
   "metadata": {
    "ExecuteTime": {
     "end_time": "2025-03-06T15:26:10.136580Z",
     "start_time": "2025-03-06T15:26:10.128625Z"
    }
   },
   "source": [
    "# Which parts of each array are equal? (try using '==')\n",
    "np.where(np_array_random_9 == np_array_random_10)"
   ],
   "outputs": [
    {
     "data": {
      "text/plain": [
       "(array([], dtype=int64), array([], dtype=int64))"
      ]
     },
     "execution_count": 112,
     "metadata": {},
     "output_type": "execute_result"
    }
   ],
   "execution_count": 112
  },
  {
   "cell_type": "code",
   "metadata": {
    "ExecuteTime": {
     "end_time": "2025-03-06T15:29:04.157262Z",
     "start_time": "2025-03-06T15:29:04.150387Z"
    }
   },
   "source": [
    "# Sort one of the arrays you just created in ascending order\n",
    "#np_array_random_9\n",
    "np.sort(np_array_random_9)\n"
   ],
   "outputs": [
    {
     "data": {
      "text/plain": [
       "array([[2, 2, 8, 8],\n",
       "       [2, 3, 5, 7],\n",
       "       [0, 3, 7, 7]], dtype=int32)"
      ]
     },
     "execution_count": 115,
     "metadata": {},
     "output_type": "execute_result"
    }
   ],
   "execution_count": 115
  },
  {
   "cell_type": "code",
   "execution_count": 44,
   "metadata": {},
   "outputs": [],
   "source": [
    "# Sort the indexes of one of the arrays you just created\n",
    "np.argsort(np_array_random_9)"
   ]
  },
  {
   "cell_type": "code",
   "metadata": {
    "ExecuteTime": {
     "end_time": "2025-03-06T15:36:08.836504Z",
     "start_time": "2025-03-06T15:36:08.827535Z"
    }
   },
   "source": [
    "# Find the index with the maximum value in one of the arrays you've created\n",
    "np.argmax(np_array_random_9)"
   ],
   "outputs": [
    {
     "data": {
      "text/plain": [
       "np.int64(0)"
      ]
     },
     "execution_count": 116,
     "metadata": {},
     "output_type": "execute_result"
    }
   ],
   "execution_count": 116
  },
  {
   "cell_type": "code",
   "execution_count": 46,
   "metadata": {},
   "outputs": [],
   "source": [
    "# Find the index with the minimum value in one of the arrays you've created\n",
    "np.argmin(np_array_random_9)"
   ]
  },
  {
   "cell_type": "code",
   "metadata": {
    "ExecuteTime": {
     "end_time": "2025-03-06T15:37:51.371370Z",
     "start_time": "2025-03-06T15:37:51.362466Z"
    }
   },
   "source": [
    "# Find the indexes with the maximum values down the 1st axis (axis=1)\n",
    "# of one of the arrays you created\n",
    "np.argmax(np_array_random_9, axis=1)"
   ],
   "outputs": [
    {
     "data": {
      "text/plain": [
       "array([0, 2, 0])"
      ]
     },
     "execution_count": 117,
     "metadata": {},
     "output_type": "execute_result"
    }
   ],
   "execution_count": 117
  },
  {
   "cell_type": "code",
   "execution_count": 48,
   "metadata": {},
   "outputs": [],
   "source": [
    "# Find the indexes with the minimum values across the 0th axis (axis=0)\n",
    "# of one of the arrays you created\n",
    "np.argmin(np_array_random_9, axis=0)"
   ]
  },
  {
   "cell_type": "code",
   "execution_count": 49,
   "metadata": {},
   "outputs": [],
   "source": [
    "# Create an array of normally distributed random numbers\n",
    "np_array_random_11 = np.random.normal(0, 1, 10000) # array of 10,000 normally distributed random"
   ]
  },
  {
   "cell_type": "code",
   "execution_count": 50,
   "metadata": {},
   "outputs": [],
   "source": [
    "# Create an array with 10 evenly spaced numbers between 1 and 100\n",
    "np_array_evenly_spaced = np.linspace(1, 100, 10) # array of 10 evenly spaced numbers between 1 and"
   ]
  },
  {
   "cell_type": "markdown",
   "metadata": {},
   "source": [
    "## Extensions\n",
    "\n",
    "Checking out this resource is a plus :  [NumPy quickstart tutorial](https://numpy.org/doc/stable/user/quickstart.html). A good practice would be to read through it and for the parts you find interesting, add them into the end of this notebook.\n",
    "\n",
    "Pay particular attention to the section on broadcasting. And most importantly, get hands-on with the code as much as possible. If in dobut, run the code, see what it does.\n",
    "\n",
    "The next place you could go is the [Stack Overflow page for the top questions and answers for NumPy](https://stackoverflow.com/questions/tagged/numpy?sort=MostVotes&edited=true). Often, you'll find some of the most common and useful NumPy functions here. Don't forget to play around with the filters! You'll likely find something helpful here.\n"
   ]
  },
  {
   "metadata": {},
   "cell_type": "code",
   "outputs": [],
   "execution_count": null,
   "source": ""
  }
 ],
 "metadata": {
  "kernelspec": {
   "display_name": "Python 3",
   "language": "python",
   "name": "python3"
  },
  "language_info": {
   "codemirror_mode": {
    "name": "ipython",
    "version": 3
   },
   "file_extension": ".py",
   "mimetype": "text/x-python",
   "name": "python",
   "nbconvert_exporter": "python",
   "pygments_lexer": "ipython3",
   "version": "3.8.3"
  }
 },
 "nbformat": 4,
 "nbformat_minor": 2
}
